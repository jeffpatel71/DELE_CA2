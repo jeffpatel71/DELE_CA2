{
 "cells": [
  {
   "cell_type": "code",
   "execution_count": 3,
   "metadata": {},
   "outputs": [
    {
     "name": "stdout",
     "output_type": "stream",
     "text": [
      "WARNING:tensorflow:From c:\\Users\\hazem\\anaconda3\\envs\\RL\\Lib\\site-packages\\keras\\src\\losses.py:2976: The name tf.losses.sparse_softmax_cross_entropy is deprecated. Please use tf.compat.v1.losses.sparse_softmax_cross_entropy instead.\n",
      "\n"
     ]
    }
   ],
   "source": [
    "import gym\n",
    "import random\n",
    "import numpy as np\n",
    "from collections import deque\n",
    "from tensorflow.keras.layers import Dense\n",
    "from tensorflow.keras.optimizers import Adam\n",
    "from tensorflow.keras.models import Sequential\n",
    "\n"
   ]
  },
  {
   "cell_type": "markdown",
   "metadata": {},
   "source": [
    "## Build Model\n",
    "<!-- <h3>Base Model</h3> -->\n",
    "- Epsilon = 1\n",
    "- Epsilon_min = 0.01\n",
    "- Epsilon_decay = 0.99\n",
    "- Learning_rate = 0.01\n",
    "- Discount_rate = 0.8\n",
    "- Train_start = 1000\n",
    "- Batch_size = 64"
   ]
  },
  {
   "cell_type": "code",
   "execution_count": null,
   "metadata": {},
   "outputs": [],
   "source": [
    "EPISODES = 50"
   ]
  },
  {
   "cell_type": "code",
   "execution_count": null,
   "metadata": {},
   "outputs": [],
   "source": [
    "class DQNAgent:\n",
    "    def __init__(self, state_size, action_size, epsilon_decay=0.99, learning_rate=0.01, discount_rate=0.8):\n",
    "        self.state_size = state_size\n",
    "        self.action_size = action_size\n",
    "\n",
    "        self.render = False\n",
    "\n",
    "        self.epsilon = 1\n",
    "        self.epsilon_min = 0.01 \n",
    "        self.epsilon_decay = epsilon_decay \n",
    "        self.learning_rate = learning_rate \n",
    "        self.discount_rate = discount_rate \n",
    "        self.train_start = 1000\n",
    "        self.batch_size = 64\n",
    "\n",
    "        self.memory = deque(maxlen=3000)\n",
    "\n",
    "        self.model = self.build_model()\n",
    "        self.t_model = self.build_model()\n",
    "\n",
    "        self.update_t_weights()\n",
    "\n",
    "    def build_model(self):\n",
    "        model = Sequential()\n",
    "        model.add(Dense(24, input_dim=self.state_size, activation=\"relu\"))\n",
    "        model.add(Dense(24, activation=\"relu\"))\n",
    "        model.add(Dense(self.action_size, activation=\"linear\"))\n",
    "        model.summary()\n",
    "        model.compile(loss=\"mse\", optimizer=Adam(lr=self.learning_rate))\n",
    "        return model\n",
    "\n",
    "    def append_sample(self, state, action, reward, next_state, done):\n",
    "        self.memory.append((state, action, reward, next_state, done))\n",
    "\n",
    "        if self.epsilon > self.epsilon_min:\n",
    "            self.epsilon *= self.epsilon_decay\n",
    "    def update_t_weights(self):\n",
    "        self.t_model.set_weights(self.model.get_weights())\n",
    "    def get_action(self, state, env):\n",
    "        if np.random.rand() < self.epsilon:\n",
    "            e = env.action_space.sample()\n",
    "            return e\n",
    "        else:\n",
    "            q_value = self.model.predict(state)\n",
    "            return q_value[0]\n",
    "    def train(self):\n",
    "        if len(self.memory) < self.train_start:\n",
    "            return\n",
    "        batch_size = min(self.batch_size, len(self.memory))\n",
    "        mini_batch = random.sample(self.memory, batch_size)\n",
    "\n",
    "        target_input = np.zeros((batch_size, self.state_size))\n",
    "        t_input = np.zeros((batch_size, self.state_size))\n",
    "        actions = []\n",
    "        rewards = []\n",
    "        dones = []\n",
    "        for i in range(self.batch_size):\n",
    "            target_input[i] = mini_batch[i][0]\n",
    "            actions.append(mini_batch[i][1])\n",
    "            rewards.append(mini_batch[i][2])\n",
    "            t_input[i] = mini_batch[i][3]\n",
    "            dones.append(mini_batch[i][4])\n",
    "\n",
    "        target = self.model.predict(target_input)\n",
    "        t_target = self.model.predict(t_input)\n",
    "\n",
    "        for i in range(self.batch_size):\n",
    "            if dones[i]:\n",
    "                target[i] = rewards[i]\n",
    "            else:\n",
    "                target[i] = rewards[i] + self.discount_rate * t_target[i]\n",
    "        self.model.fit(target_input, target, epochs=1, batch_size=self.batch_size, verbose=0)\n",
    "    \n",
    "    def save_weights(self, filename):\n",
    "        self.model.save_weights(filename)\n",
    "\n",
    "\n",
    "\n",
    "def main(epsilon_decay=0.99, learning_rate=0.01, discount_rate=0.8, filename=\"best_pendulum.h5\"):\n",
    "    env = gym.make(\"Pendulum-v0\")\n",
    "\n",
    "    state_size = env.observation_space.shape[0]\n",
    "\n",
    "    action_size = env.action_space.shape[0]\n",
    "    \n",
    "    agent = DQNAgent(state_size, action_size, epsilon_decay, learning_rate, discount_rate)\n",
    "    scores = []\n",
    "    episodes = []\n",
    "    \n",
    "    best_score = -np.inf\n",
    "\n",
    "    for e in range(EPISODES):\n",
    "        done = False\n",
    "        score = 0\n",
    "\n",
    "        state = env.reset()\n",
    "        state = np.reshape(state, [1, state_size])\n",
    "\n",
    "        while not done:\n",
    "            if agent.render == True:\n",
    "                env.render()\n",
    "\n",
    "            action = agent.get_action(state, env)\n",
    "            next_state, reward, done, info = env.step(action)\n",
    "            next_state = np.reshape(next_state, [1, state_size])\n",
    "\n",
    "            reward = reward if not done or score == 0 else -16\n",
    "\n",
    "            agent.append_sample(state, action, reward, next_state, done)\n",
    "            agent.train()\n",
    "\n",
    "            score += reward\n",
    "            state = next_state\n",
    "            if done:\n",
    "                if score > best_score:\n",
    "                    best_score = score\n",
    "                    agent.save_weights(filename)\n",
    "\n",
    "                agent.update_t_weights()\n",
    "                print(\"episode:\", e, \"  score:\", score, \"  memory length:\",\n",
    "                      len(agent.memory), \"  epsilon:\", agent.epsilon)\n",
    "\n",
    "    env.close()\n",
    "    return scores, episodes"
   ]
  },
  {
   "cell_type": "code",
   "execution_count": null,
   "metadata": {},
   "outputs": [],
   "source": [
    "res_scores, res_episodes = main()"
   ]
  },
  {
   "cell_type": "code",
   "execution_count": null,
   "metadata": {},
   "outputs": [],
   "source": [
    "import seaborn as sns\n",
    "import matplotlib.pyplot as plt\n",
    "\n",
    "sns.lineplot(x=EPISODES, y=res_episodes)"
   ]
  },
  {
   "cell_type": "markdown",
   "metadata": {},
   "source": [
    "# Tune the model"
   ]
  },
  {
   "cell_type": "code",
   "execution_count": null,
   "metadata": {},
   "outputs": [],
   "source": [
    "# Setting of the parameters that we wanted to tune\n",
    "epsilon_decay = [0.99, 0.98, 0.97]\n",
    "learning_rate = np.arange(0.01, 0.1, 0.01)\n",
    "discount_rate = [0.8, 0.9, 0.95]"
   ]
  },
  {
   "cell_type": "markdown",
   "metadata": {},
   "source": [
    "### Epsilon_Decay_Scores"
   ]
  },
  {
   "cell_type": "code",
   "execution_count": null,
   "metadata": {},
   "outputs": [],
   "source": [
    "epsilon_decay_scores = []\n",
    "\n",
    "for e in epsilon_decay:\n",
    "    res_scores, res_episodes = main(e, filename=f\"best_epislion_decay{e}.h5\")\n",
    "    epsilon_decay_scores.append(res_episodes)"
   ]
  },
  {
   "cell_type": "code",
   "execution_count": null,
   "metadata": {},
   "outputs": [],
   "source": [
    "# sns.lineplot(x=EPISODES, y=epsilon_decay_scores)\n",
    "\n",
    "for i, scores in enumerate(epsilon_decay_scores):\n",
    "    sns.lineplot(x=EPISODES, y=scores, label=epsilon_decay[i])\n",
    "\n",
    "plt.xlabel('Episode')\n",
    "plt.ylabel('Score')\n",
    "plt.show()"
   ]
  },
  {
   "cell_type": "markdown",
   "metadata": {},
   "source": [
    "### Learning Rate\n"
   ]
  },
  {
   "cell_type": "code",
   "execution_count": null,
   "metadata": {},
   "outputs": [],
   "source": [
    "learning_rate_scores = []\n",
    "\n",
    "for e in learning_rate:\n",
    "    res_scores, res_episodes = main(epsilon_decay=0.01, learning_rate=e, filename=f\"best_learning{e}.h5\") # Epsilon decay is set as a placeholder\n",
    "    learning_rate_scores.append(res_episodes)"
   ]
  },
  {
   "cell_type": "code",
   "execution_count": null,
   "metadata": {},
   "outputs": [],
   "source": [
    "# sns.lineplot(x=EPISODES, y=learning_rate_scores)\n",
    "\n",
    "for i, scores in enumerate(learning_rate_scores):\n",
    "    sns.lineplot(x=EPISODES, y=scores, label=learning_rate[i])\n",
    "\n",
    "plt.xlabel('Episode')\n",
    "plt.ylabel('Score')\n",
    "plt.show()"
   ]
  },
  {
   "cell_type": "code",
   "execution_count": null,
   "metadata": {},
   "outputs": [],
   "source": [
    "### Discount rate\n",
    "discount_rate_scores = []\n",
    "\n",
    "for e in discount_rate:\n",
    "    res_scores, res_episodes = main(epsilon_decay=0.01, learning_rate=0.01, discount_rate=e, filename=f\"best_discount{e}.h5\") \n",
    "    discount_rate_scores.append(res_episodes)"
   ]
  },
  {
   "cell_type": "code",
   "execution_count": null,
   "metadata": {},
   "outputs": [],
   "source": [
    "# sns.lineplot(x=EPISODES, y=learning_rate_scores)\n",
    "\n",
    "for i, scores in enumerate(discount_rate_scores):\n",
    "    sns.lineplot(x=EPISODES, y=scores, label=discount_rate[i])\n",
    "\n",
    "plt.xlabel('Episode')\n",
    "plt.ylabel('Score')\n",
    "plt.show()"
   ]
  },
  {
   "cell_type": "markdown",
   "metadata": {},
   "source": [
    "### Final DQN Model"
   ]
  },
  {
   "cell_type": "code",
   "execution_count": null,
   "metadata": {},
   "outputs": [],
   "source": [
    "res_scores, res_episodes = main(epsilon_decay=0.99, learning_rate=0.01, discount_rate=0.8, filename=\"best_DQN_pendulum.h5\")"
   ]
  },
  {
   "cell_type": "code",
   "execution_count": null,
   "metadata": {},
   "outputs": [],
   "source": [
    "sns.lineplot(x=EPISODES, y=res_episodes)"
   ]
  },
  {
   "cell_type": "markdown",
   "metadata": {},
   "source": [
    "### DDPG"
   ]
  },
  {
   "cell_type": "code",
   "execution_count": null,
   "metadata": {},
   "outputs": [],
   "source": [
    "class DDPG:\n",
    "    def __init__(self):\n",
    "        return"
   ]
  }
 ],
 "metadata": {
  "kernelspec": {
   "display_name": "RL",
   "language": "python",
   "name": "python3"
  },
  "language_info": {
   "codemirror_mode": {
    "name": "ipython",
    "version": 3
   },
   "file_extension": ".py",
   "mimetype": "text/x-python",
   "name": "python",
   "nbconvert_exporter": "python",
   "pygments_lexer": "ipython3",
   "version": "3.11.7"
  }
 },
 "nbformat": 4,
 "nbformat_minor": 2
}
